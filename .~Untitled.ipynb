{
 "cells": [
  {
   "cell_type": "code",
   "execution_count": 25,
   "metadata": {},
   "outputs": [],
   "source": [
    "import pandas as pd\n",
    "import numpy as np\n",
    "from sklearn.linear_model import LinearRegression\n",
    "from sklearn.preprocessing import PolynomialFeatures\n",
    "from sklearn.pipeline import Pipeline\n",
    "from sklearn.preprocessing import StandardScaler\n",
    "from sklearn.metrics import mean_squared_error\n",
    "import seaborn as sns\n",
    "%matplotlib inline"
   ]
  },
  {
   "cell_type": "markdown",
   "metadata": {},
   "source": [
    "## Data Wrangling"
   ]
  },
  {
   "cell_type": "code",
   "execution_count": 2,
   "metadata": {},
   "outputs": [],
   "source": [
    "df_usdfomc = pd.read_excel('USD_FOMC_Data.xlsx', skiprows=range(1))\n",
    "header = df_usdfomc.iloc[0, :]\n",
    "df_usdfomc.columns = header\n",
    "df_usdfomc.index = df_usdfomc['S/N']\n",
    "df_usdfomc.drop('S/N', inplace=True, axis=0)\n",
    "df_usdfomc.drop('S/N', inplace=True, axis=1)"
   ]
  },
  {
   "cell_type": "code",
   "execution_count": 3,
   "metadata": {},
   "outputs": [
    {
     "data": {
      "text/html": [
       "<div>\n",
       "<style scoped>\n",
       "    .dataframe tbody tr th:only-of-type {\n",
       "        vertical-align: middle;\n",
       "    }\n",
       "\n",
       "    .dataframe tbody tr th {\n",
       "        vertical-align: top;\n",
       "    }\n",
       "\n",
       "    .dataframe thead th {\n",
       "        text-align: right;\n",
       "    }\n",
       "</style>\n",
       "<table border=\"1\" class=\"dataframe\">\n",
       "  <thead>\n",
       "    <tr style=\"text-align: right;\">\n",
       "      <th></th>\n",
       "      <th>Month</th>\n",
       "      <th>Year</th>\n",
       "      <th>Man. PMI</th>\n",
       "      <th>Non-Man. PMI</th>\n",
       "      <th>CPI</th>\n",
       "      <th>Retail Sales</th>\n",
       "      <th>Trading Balance</th>\n",
       "      <th>Employment Change</th>\n",
       "      <th>Uemployment Rate</th>\n",
       "      <th>Hourly Earning</th>\n",
       "      <th>FOMC Rates</th>\n",
       "    </tr>\n",
       "    <tr>\n",
       "      <th>S/N</th>\n",
       "      <th></th>\n",
       "      <th></th>\n",
       "      <th></th>\n",
       "      <th></th>\n",
       "      <th></th>\n",
       "      <th></th>\n",
       "      <th></th>\n",
       "      <th></th>\n",
       "      <th></th>\n",
       "      <th></th>\n",
       "      <th></th>\n",
       "    </tr>\n",
       "  </thead>\n",
       "  <tbody>\n",
       "    <tr>\n",
       "      <th>1</th>\n",
       "      <td>January</td>\n",
       "      <td>2012</td>\n",
       "      <td>53.9</td>\n",
       "      <td>52.6</td>\n",
       "      <td>0</td>\n",
       "      <td>0.001</td>\n",
       "      <td>-47.8</td>\n",
       "      <td>200</td>\n",
       "      <td>0.085</td>\n",
       "      <td>0.002</td>\n",
       "      <td>0.0025</td>\n",
       "    </tr>\n",
       "    <tr>\n",
       "      <th>2</th>\n",
       "      <td>February</td>\n",
       "      <td>2012</td>\n",
       "      <td>54.1</td>\n",
       "      <td>56.8</td>\n",
       "      <td>0.002</td>\n",
       "      <td>0.004</td>\n",
       "      <td>-48.8</td>\n",
       "      <td>243</td>\n",
       "      <td>0.083</td>\n",
       "      <td>0.002</td>\n",
       "      <td>0.0025</td>\n",
       "    </tr>\n",
       "    <tr>\n",
       "      <th>3</th>\n",
       "      <td>March</td>\n",
       "      <td>2012</td>\n",
       "      <td>52.4</td>\n",
       "      <td>57.3</td>\n",
       "      <td>0.004</td>\n",
       "      <td>0.011</td>\n",
       "      <td>-52.6</td>\n",
       "      <td>227</td>\n",
       "      <td>0.083</td>\n",
       "      <td>0.001</td>\n",
       "      <td>0.0025</td>\n",
       "    </tr>\n",
       "    <tr>\n",
       "      <th>4</th>\n",
       "      <td>April</td>\n",
       "      <td>2012</td>\n",
       "      <td>53.4</td>\n",
       "      <td>56</td>\n",
       "      <td>0.003</td>\n",
       "      <td>0.008</td>\n",
       "      <td>-46</td>\n",
       "      <td>120</td>\n",
       "      <td>0.082</td>\n",
       "      <td>0.002</td>\n",
       "      <td>0.0025</td>\n",
       "    </tr>\n",
       "    <tr>\n",
       "      <th>5</th>\n",
       "      <td>May</td>\n",
       "      <td>2012</td>\n",
       "      <td>54.8</td>\n",
       "      <td>53.5</td>\n",
       "      <td>0</td>\n",
       "      <td>0.001</td>\n",
       "      <td>-51.8</td>\n",
       "      <td>115</td>\n",
       "      <td>0.081</td>\n",
       "      <td>0</td>\n",
       "      <td>0.0025</td>\n",
       "    </tr>\n",
       "  </tbody>\n",
       "</table>\n",
       "</div>"
      ],
      "text/plain": [
       "0       Month  Year Man. PMI Non-Man. PMI    CPI Retail Sales Trading Balance  \\\n",
       "S/N                                                                             \n",
       "1     January  2012     53.9         52.6      0        0.001           -47.8   \n",
       "2    February  2012     54.1         56.8  0.002        0.004           -48.8   \n",
       "3       March  2012     52.4         57.3  0.004        0.011           -52.6   \n",
       "4       April  2012     53.4           56  0.003        0.008             -46   \n",
       "5         May  2012     54.8         53.5      0        0.001           -51.8   \n",
       "\n",
       "0   Employment Change Uemployment Rate Hourly Earning FOMC Rates  \n",
       "S/N                                                               \n",
       "1                 200            0.085          0.002     0.0025  \n",
       "2                 243            0.083          0.002     0.0025  \n",
       "3                 227            0.083          0.001     0.0025  \n",
       "4                 120            0.082          0.002     0.0025  \n",
       "5                 115            0.081              0     0.0025  "
      ]
     },
     "execution_count": 3,
     "metadata": {},
     "output_type": "execute_result"
    }
   ],
   "source": [
    "df_usdfomc.head()"
   ]
  },
  {
   "cell_type": "code",
   "execution_count": 4,
   "metadata": {},
   "outputs": [
    {
     "data": {
      "text/html": [
       "<div>\n",
       "<style scoped>\n",
       "    .dataframe tbody tr th:only-of-type {\n",
       "        vertical-align: middle;\n",
       "    }\n",
       "\n",
       "    .dataframe tbody tr th {\n",
       "        vertical-align: top;\n",
       "    }\n",
       "\n",
       "    .dataframe thead th {\n",
       "        text-align: right;\n",
       "    }\n",
       "</style>\n",
       "<table border=\"1\" class=\"dataframe\">\n",
       "  <thead>\n",
       "    <tr style=\"text-align: right;\">\n",
       "      <th></th>\n",
       "      <th>Man. PMI</th>\n",
       "      <th>Non-Man. PMI</th>\n",
       "      <th>CPI</th>\n",
       "      <th>Retail Sales</th>\n",
       "      <th>Trading Balance</th>\n",
       "      <th>Employment Change</th>\n",
       "      <th>Uemployment Rate</th>\n",
       "      <th>Hourly Earning</th>\n",
       "      <th>FOMC Rates</th>\n",
       "    </tr>\n",
       "    <tr>\n",
       "      <th>S/N</th>\n",
       "      <th></th>\n",
       "      <th></th>\n",
       "      <th></th>\n",
       "      <th></th>\n",
       "      <th></th>\n",
       "      <th></th>\n",
       "      <th></th>\n",
       "      <th></th>\n",
       "      <th></th>\n",
       "    </tr>\n",
       "  </thead>\n",
       "  <tbody>\n",
       "    <tr>\n",
       "      <th>1</th>\n",
       "      <td>53.9</td>\n",
       "      <td>52.6</td>\n",
       "      <td>0</td>\n",
       "      <td>0.001</td>\n",
       "      <td>-47.8</td>\n",
       "      <td>200</td>\n",
       "      <td>0.085</td>\n",
       "      <td>0.002</td>\n",
       "      <td>0.0025</td>\n",
       "    </tr>\n",
       "    <tr>\n",
       "      <th>2</th>\n",
       "      <td>54.1</td>\n",
       "      <td>56.8</td>\n",
       "      <td>0.002</td>\n",
       "      <td>0.004</td>\n",
       "      <td>-48.8</td>\n",
       "      <td>243</td>\n",
       "      <td>0.083</td>\n",
       "      <td>0.002</td>\n",
       "      <td>0.0025</td>\n",
       "    </tr>\n",
       "    <tr>\n",
       "      <th>3</th>\n",
       "      <td>52.4</td>\n",
       "      <td>57.3</td>\n",
       "      <td>0.004</td>\n",
       "      <td>0.011</td>\n",
       "      <td>-52.6</td>\n",
       "      <td>227</td>\n",
       "      <td>0.083</td>\n",
       "      <td>0.001</td>\n",
       "      <td>0.0025</td>\n",
       "    </tr>\n",
       "    <tr>\n",
       "      <th>4</th>\n",
       "      <td>53.4</td>\n",
       "      <td>56</td>\n",
       "      <td>0.003</td>\n",
       "      <td>0.008</td>\n",
       "      <td>-46</td>\n",
       "      <td>120</td>\n",
       "      <td>0.082</td>\n",
       "      <td>0.002</td>\n",
       "      <td>0.0025</td>\n",
       "    </tr>\n",
       "    <tr>\n",
       "      <th>5</th>\n",
       "      <td>54.8</td>\n",
       "      <td>53.5</td>\n",
       "      <td>0</td>\n",
       "      <td>0.001</td>\n",
       "      <td>-51.8</td>\n",
       "      <td>115</td>\n",
       "      <td>0.081</td>\n",
       "      <td>0</td>\n",
       "      <td>0.0025</td>\n",
       "    </tr>\n",
       "  </tbody>\n",
       "</table>\n",
       "</div>"
      ],
      "text/plain": [
       "0   Man. PMI Non-Man. PMI    CPI Retail Sales Trading Balance  \\\n",
       "S/N                                                             \n",
       "1       53.9         52.6      0        0.001           -47.8   \n",
       "2       54.1         56.8  0.002        0.004           -48.8   \n",
       "3       52.4         57.3  0.004        0.011           -52.6   \n",
       "4       53.4           56  0.003        0.008             -46   \n",
       "5       54.8         53.5      0        0.001           -51.8   \n",
       "\n",
       "0   Employment Change Uemployment Rate Hourly Earning FOMC Rates  \n",
       "S/N                                                               \n",
       "1                 200            0.085          0.002     0.0025  \n",
       "2                 243            0.083          0.002     0.0025  \n",
       "3                 227            0.083          0.001     0.0025  \n",
       "4                 120            0.082          0.002     0.0025  \n",
       "5                 115            0.081              0     0.0025  "
      ]
     },
     "execution_count": 4,
     "metadata": {},
     "output_type": "execute_result"
    }
   ],
   "source": [
    "df = df_usdfomc.drop(['Month', 'Year'], axis=1)\n",
    "df.head()"
   ]
  },
  {
   "cell_type": "code",
   "execution_count": 5,
   "metadata": {},
   "outputs": [
    {
     "data": {
      "text/plain": [
       "0\n",
       "Man. PMI             object\n",
       "Non-Man. PMI         object\n",
       "CPI                  object\n",
       "Retail Sales         object\n",
       "Trading Balance      object\n",
       "Employment Change    object\n",
       "Uemployment Rate     object\n",
       "Hourly Earning       object\n",
       "FOMC Rates           object\n",
       "dtype: object"
      ]
     },
     "execution_count": 5,
     "metadata": {},
     "output_type": "execute_result"
    }
   ],
   "source": [
    "df.dtypes"
   ]
  },
  {
   "cell_type": "code",
   "execution_count": 6,
   "metadata": {},
   "outputs": [],
   "source": [
    "df = df.astype(float)"
   ]
  },
  {
   "cell_type": "markdown",
   "metadata": {},
   "source": [
    "## Exploaratory Analysis"
   ]
  },
  {
   "cell_type": "code",
   "execution_count": 7,
   "metadata": {},
   "outputs": [
    {
     "data": {
      "text/html": [
       "<div>\n",
       "<style scoped>\n",
       "    .dataframe tbody tr th:only-of-type {\n",
       "        vertical-align: middle;\n",
       "    }\n",
       "\n",
       "    .dataframe tbody tr th {\n",
       "        vertical-align: top;\n",
       "    }\n",
       "\n",
       "    .dataframe thead th {\n",
       "        text-align: right;\n",
       "    }\n",
       "</style>\n",
       "<table border=\"1\" class=\"dataframe\">\n",
       "  <thead>\n",
       "    <tr style=\"text-align: right;\">\n",
       "      <th></th>\n",
       "      <th>Man. PMI</th>\n",
       "      <th>Non-Man. PMI</th>\n",
       "      <th>CPI</th>\n",
       "      <th>Retail Sales</th>\n",
       "      <th>Trading Balance</th>\n",
       "      <th>Employment Change</th>\n",
       "      <th>Uemployment Rate</th>\n",
       "      <th>Hourly Earning</th>\n",
       "      <th>FOMC Rates</th>\n",
       "    </tr>\n",
       "    <tr>\n",
       "      <th>0</th>\n",
       "      <th></th>\n",
       "      <th></th>\n",
       "      <th></th>\n",
       "      <th></th>\n",
       "      <th></th>\n",
       "      <th></th>\n",
       "      <th></th>\n",
       "      <th></th>\n",
       "      <th></th>\n",
       "    </tr>\n",
       "  </thead>\n",
       "  <tbody>\n",
       "    <tr>\n",
       "      <th>Man. PMI</th>\n",
       "      <td>1.000000</td>\n",
       "      <td>0.569402</td>\n",
       "      <td>0.045272</td>\n",
       "      <td>0.077324</td>\n",
       "      <td>-0.148790</td>\n",
       "      <td>0.089001</td>\n",
       "      <td>-0.189863</td>\n",
       "      <td>0.065144</td>\n",
       "      <td>0.295408</td>\n",
       "    </tr>\n",
       "    <tr>\n",
       "      <th>Non-Man. PMI</th>\n",
       "      <td>0.569402</td>\n",
       "      <td>1.000000</td>\n",
       "      <td>0.024034</td>\n",
       "      <td>0.053144</td>\n",
       "      <td>-0.262010</td>\n",
       "      <td>0.210160</td>\n",
       "      <td>-0.409789</td>\n",
       "      <td>0.170929</td>\n",
       "      <td>0.332231</td>\n",
       "    </tr>\n",
       "    <tr>\n",
       "      <th>CPI</th>\n",
       "      <td>0.045272</td>\n",
       "      <td>0.024034</td>\n",
       "      <td>1.000000</td>\n",
       "      <td>0.493933</td>\n",
       "      <td>0.006832</td>\n",
       "      <td>-0.036571</td>\n",
       "      <td>-0.084069</td>\n",
       "      <td>0.069496</td>\n",
       "      <td>0.128860</td>\n",
       "    </tr>\n",
       "    <tr>\n",
       "      <th>Retail Sales</th>\n",
       "      <td>0.077324</td>\n",
       "      <td>0.053144</td>\n",
       "      <td>0.493933</td>\n",
       "      <td>1.000000</td>\n",
       "      <td>0.052519</td>\n",
       "      <td>-0.178322</td>\n",
       "      <td>0.067764</td>\n",
       "      <td>0.183458</td>\n",
       "      <td>0.025666</td>\n",
       "    </tr>\n",
       "    <tr>\n",
       "      <th>Trading Balance</th>\n",
       "      <td>-0.148790</td>\n",
       "      <td>-0.262010</td>\n",
       "      <td>0.006832</td>\n",
       "      <td>0.052519</td>\n",
       "      <td>1.000000</td>\n",
       "      <td>-0.075780</td>\n",
       "      <td>0.395336</td>\n",
       "      <td>-0.152987</td>\n",
       "      <td>-0.665970</td>\n",
       "    </tr>\n",
       "    <tr>\n",
       "      <th>Employment Change</th>\n",
       "      <td>0.089001</td>\n",
       "      <td>0.210160</td>\n",
       "      <td>-0.036571</td>\n",
       "      <td>-0.178322</td>\n",
       "      <td>-0.075780</td>\n",
       "      <td>1.000000</td>\n",
       "      <td>-0.150738</td>\n",
       "      <td>-0.119484</td>\n",
       "      <td>-0.017103</td>\n",
       "    </tr>\n",
       "    <tr>\n",
       "      <th>Uemployment Rate</th>\n",
       "      <td>-0.189863</td>\n",
       "      <td>-0.409789</td>\n",
       "      <td>-0.084069</td>\n",
       "      <td>0.067764</td>\n",
       "      <td>0.395336</td>\n",
       "      <td>-0.150738</td>\n",
       "      <td>1.000000</td>\n",
       "      <td>-0.226608</td>\n",
       "      <td>-0.755454</td>\n",
       "    </tr>\n",
       "    <tr>\n",
       "      <th>Hourly Earning</th>\n",
       "      <td>0.065144</td>\n",
       "      <td>0.170929</td>\n",
       "      <td>0.069496</td>\n",
       "      <td>0.183458</td>\n",
       "      <td>-0.152987</td>\n",
       "      <td>-0.119484</td>\n",
       "      <td>-0.226608</td>\n",
       "      <td>1.000000</td>\n",
       "      <td>0.214013</td>\n",
       "    </tr>\n",
       "    <tr>\n",
       "      <th>FOMC Rates</th>\n",
       "      <td>0.295408</td>\n",
       "      <td>0.332231</td>\n",
       "      <td>0.128860</td>\n",
       "      <td>0.025666</td>\n",
       "      <td>-0.665970</td>\n",
       "      <td>-0.017103</td>\n",
       "      <td>-0.755454</td>\n",
       "      <td>0.214013</td>\n",
       "      <td>1.000000</td>\n",
       "    </tr>\n",
       "  </tbody>\n",
       "</table>\n",
       "</div>"
      ],
      "text/plain": [
       "0                  Man. PMI  Non-Man. PMI       CPI  Retail Sales  \\\n",
       "0                                                                   \n",
       "Man. PMI           1.000000      0.569402  0.045272      0.077324   \n",
       "Non-Man. PMI       0.569402      1.000000  0.024034      0.053144   \n",
       "CPI                0.045272      0.024034  1.000000      0.493933   \n",
       "Retail Sales       0.077324      0.053144  0.493933      1.000000   \n",
       "Trading Balance   -0.148790     -0.262010  0.006832      0.052519   \n",
       "Employment Change  0.089001      0.210160 -0.036571     -0.178322   \n",
       "Uemployment Rate  -0.189863     -0.409789 -0.084069      0.067764   \n",
       "Hourly Earning     0.065144      0.170929  0.069496      0.183458   \n",
       "FOMC Rates         0.295408      0.332231  0.128860      0.025666   \n",
       "\n",
       "0                  Trading Balance  Employment Change  Uemployment Rate  \\\n",
       "0                                                                         \n",
       "Man. PMI                 -0.148790           0.089001         -0.189863   \n",
       "Non-Man. PMI             -0.262010           0.210160         -0.409789   \n",
       "CPI                       0.006832          -0.036571         -0.084069   \n",
       "Retail Sales              0.052519          -0.178322          0.067764   \n",
       "Trading Balance           1.000000          -0.075780          0.395336   \n",
       "Employment Change        -0.075780           1.000000         -0.150738   \n",
       "Uemployment Rate          0.395336          -0.150738          1.000000   \n",
       "Hourly Earning           -0.152987          -0.119484         -0.226608   \n",
       "FOMC Rates               -0.665970          -0.017103         -0.755454   \n",
       "\n",
       "0                  Hourly Earning  FOMC Rates  \n",
       "0                                              \n",
       "Man. PMI                 0.065144    0.295408  \n",
       "Non-Man. PMI             0.170929    0.332231  \n",
       "CPI                      0.069496    0.128860  \n",
       "Retail Sales             0.183458    0.025666  \n",
       "Trading Balance         -0.152987   -0.665970  \n",
       "Employment Change       -0.119484   -0.017103  \n",
       "Uemployment Rate        -0.226608   -0.755454  \n",
       "Hourly Earning           1.000000    0.214013  \n",
       "FOMC Rates               0.214013    1.000000  "
      ]
     },
     "execution_count": 7,
     "metadata": {},
     "output_type": "execute_result"
    }
   ],
   "source": [
    "df.corr(method ='pearson')"
   ]
  },
  {
   "cell_type": "code",
   "execution_count": 8,
   "metadata": {},
   "outputs": [],
   "source": [
    "lm = LinearRegression()"
   ]
  },
  {
   "cell_type": "code",
   "execution_count": 9,
   "metadata": {},
   "outputs": [],
   "source": [
    "X = df[['Trading Balance', 'Uemployment Rate']]\n",
    "#X = df[['Uemployment Rate']]\n",
    "Y = df['FOMC Rates']"
   ]
  },
  {
   "cell_type": "code",
   "execution_count": 10,
   "metadata": {},
   "outputs": [
    {
     "data": {
      "text/plain": [
       "0.7306213010927579"
      ]
     },
     "execution_count": 10,
     "metadata": {},
     "output_type": "execute_result"
    }
   ],
   "source": [
    "lm.fit(X,Y)\n",
    "lm.score(X,Y)"
   ]
  },
  {
   "cell_type": "code",
   "execution_count": 11,
   "metadata": {},
   "outputs": [
    {
     "data": {
      "text/plain": [
       "0.7803063842404532"
      ]
     },
     "execution_count": 11,
     "metadata": {},
     "output_type": "execute_result"
    }
   ],
   "source": [
    "X = df.drop('FOMC Rates', axis=1)\n",
    "\n",
    "lm.fit(X, Y)\n",
    "lm.score(X, Y)"
   ]
  },
  {
   "cell_type": "code",
   "execution_count": 13,
   "metadata": {},
   "outputs": [
    {
     "data": {
      "text/plain": [
       "-0.0008580004162946769"
      ]
     },
     "execution_count": 13,
     "metadata": {},
     "output_type": "execute_result"
    }
   ],
   "source": [
    "lm.intercept_"
   ]
  },
  {
   "cell_type": "code",
   "execution_count": 14,
   "metadata": {},
   "outputs": [
    {
     "data": {
      "text/plain": [
       "array([ 4.08800915e-04, -3.96620188e-04,  1.79233023e-01,  5.36212920e-02,\n",
       "       -6.40077906e-04, -1.48667810e-05, -3.07734419e-01, -5.51515726e-02])"
      ]
     },
     "execution_count": 14,
     "metadata": {},
     "output_type": "execute_result"
    }
   ],
   "source": [
    "lm.coef_"
   ]
  },
  {
   "cell_type": "code",
   "execution_count": 16,
   "metadata": {},
   "outputs": [
    {
     "data": {
      "text/plain": [
       "<matplotlib.axes._subplots.AxesSubplot at 0x27fc94a9640>"
      ]
     },
     "execution_count": 16,
     "metadata": {},
     "output_type": "execute_result"
    },
    {
     "data": {
      "image/png": "[encoded data removed]",
      "text/plain": [
       "<Figure size 432x288 with 1 Axes>"
      ]
     },
     "metadata": {
      "needs_background": "light"
     },
     "output_type": "display_data"
    }
   ],
   "source": [
    "sns.regplot(x='Trading Balance', y='FOMC Rates', data=df)"
   ]
  },
  {
   "cell_type": "code",
   "execution_count": 17,
   "metadata": {},
   "outputs": [
    {
     "data": {
      "text/plain": [
       "<matplotlib.axes._subplots.AxesSubplot at 0x27fcbbaabb0>"
      ]
     },
     "execution_count": 17,
     "metadata": {},
     "output_type": "execute_result"
    },
    {
     "data": {
      "image/png": "[encoded data removed]",
      "text/plain": [
       "<Figure size 432x288 with 1 Axes>"
      ]
     },
     "metadata": {
      "needs_background": "light"
     },
     "output_type": "display_data"
    }
   ],
   "source": [
    "sns.regplot(x='Uemployment Rate', y='FOMC Rates', data=df)"
   ]
  },
  {
   "cell_type": "code",
   "execution_count": 69,
   "metadata": {},
   "outputs": [],
   "source": [
    "pr=PolynomialFeatures(degree=7)"
   ]
  },
  {
   "cell_type": "code",
   "execution_count": 70,
   "metadata": {},
   "outputs": [],
   "source": [
    "M = df[['Trading Balance', 'Uemployment Rate']]\n",
    "M_poly = pr.fit_transform(M)"
   ]
  },
  {
   "cell_type": "code",
   "execution_count": 71,
   "metadata": {},
   "outputs": [
    {
     "data": {
      "text/plain": [
       "0.899205677987824"
      ]
     },
     "execution_count": 71,
     "metadata": {},
     "output_type": "execute_result"
    }
   ],
   "source": [
    "lm.fit(M_poly, Y)\n",
    "lm.score(M_poly, Y)"
   ]
  },
  {
   "cell_type": "code",
   "execution_count": 78,
   "metadata": {},
   "outputs": [],
   "source": [
    "pr_2 = PolynomialFeatures(degree=5)"
   ]
  },
  {
   "cell_type": "code",
   "execution_count": 79,
   "metadata": {},
   "outputs": [],
   "source": [
    "N = df.drop('FOMC Rates', axis=1)\n",
    "N_poly = pr_2.fit_transform(N)"
   ]
  },
  {
   "cell_type": "code",
   "execution_count": 80,
   "metadata": {},
   "outputs": [
    {
     "data": {
      "text/plain": [
       "1.0"
      ]
     },
     "execution_count": 80,
     "metadata": {},
     "output_type": "execute_result"
    }
   ],
   "source": [
    "lm.fit(N_poly, Y)\n",
    "lm.score(N_poly, Y)"
   ]
  },
  {
   "cell_type": "code",
   "execution_count": null,
   "metadata": {},
   "outputs": [],
   "source": []
  }
 ],
 "metadata": {
  "kernelspec": {
   "display_name": "Python 3",
   "language": "python",
   "name": "python3"
  },
  "language_info": {
   "codemirror_mode": {
    "name": "ipython",
    "version": 3
   },
   "file_extension": ".py",
   "mimetype": "text/x-python",
   "name": "python",
   "nbconvert_exporter": "python",
   "pygments_lexer": "ipython3",
   "version": "3.8.3"
  }
 },
 "nbformat": 4,
 "nbformat_minor": 4
}
